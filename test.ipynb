{
 "cells": [
  {
   "cell_type": "code",
   "execution_count": null,
   "id": "e894b51f",
   "metadata": {},
   "outputs": [],
   "source": [
    "import scanpy as sc\n",
    "from scsims import SIMS"
   ]
  },
  {
   "cell_type": "code",
   "execution_count": null,
   "id": "59202d33",
   "metadata": {},
   "outputs": [],
   "source": [
    "model = SIMS(checkpoint)"
   ]
  },
  {
   "cell_type": "code",
   "execution_count": null,
   "id": "48e9a5e6",
   "metadata": {},
   "outputs": [],
   "source": []
  }
 ],
 "metadata": {
  "kernelspec": {
   "display_name": "simstest",
   "language": "python",
   "name": "simstest"
  },
  "language_info": {
   "codemirror_mode": {
    "name": "ipython",
    "version": 3
   },
   "file_extension": ".py",
   "mimetype": "text/x-python",
   "name": "python",
   "nbconvert_exporter": "python",
   "pygments_lexer": "ipython3",
   "version": "3.9.16"
  }
 },
 "nbformat": 4,
 "nbformat_minor": 5
}
